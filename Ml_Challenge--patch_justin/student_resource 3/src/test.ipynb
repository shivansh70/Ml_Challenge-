{
 "cells": [
  {
   "cell_type": "markdown",
   "id": "1b70b34e",
   "metadata": {},
   "source": [
    "### Basic library imports"
   ]
  },
  {
   "cell_type": "code",
   "execution_count": 1,
   "id": "719d15af",
   "metadata": {},
   "outputs": [],
   "source": [
    "import os\n",
    "import pandas as pd"
   ]
  },
  {
   "cell_type": "markdown",
   "id": "b8911e33",
   "metadata": {},
   "source": [
    "### Read Dataset"
   ]
  },
  {
   "cell_type": "code",
   "execution_count": 2,
   "id": "d3136aac",
   "metadata": {},
   "outputs": [],
   "source": [
    "DATASET_FOLDER = '../dataset/'\n",
    "train = pd.read_csv(os.path.join(DATASET_FOLDER, 'train.csv'))\n",
    "test = pd.read_csv(os.path.join(DATASET_FOLDER, 'test.csv'))\n",
    "sample_test = pd.read_csv(os.path.join(DATASET_FOLDER, 'sample_test.csv'))\n",
    "sample_test_out = pd.read_csv(os.path.join(DATASET_FOLDER, 'sample_test_out.csv'))"
   ]
  },
  {
   "cell_type": "markdown",
   "id": "60ebd689",
   "metadata": {},
   "source": [
    "### Run Sanity check using src/sanity.py"
   ]
  },
  {
   "cell_type": "code",
   "execution_count": null,
   "id": "81bb3988",
   "metadata": {},
   "outputs": [],
   "source": [
    "!python sanity.py --test_filename ../dataset/sample_test.csv --output_filename ../dataset/sample_test_out.csv"
   ]
  },
  {
   "cell_type": "code",
   "execution_count": null,
   "id": "5aa79459",
   "metadata": {},
   "outputs": [],
   "source": [
    "!python sanity.py --test_filename ../dataset/sample_test.csv --output_filename ../dataset/sample_test_out_fail.csv"
   ]
  },
  {
   "cell_type": "markdown",
   "id": "dbe930a8",
   "metadata": {},
   "source": [
    "### Download images"
   ]
  },
  {
   "cell_type": "code",
   "execution_count": null,
   "id": "911196f2",
   "metadata": {},
   "outputs": [],
   "source": [
    "from utils import download_images\n",
    "download_images(sample_test['image_link'], '../images')"
   ]
  },
  {
   "cell_type": "code",
   "execution_count": null,
   "id": "70e954b5",
   "metadata": {},
   "outputs": [],
   "source": [
    "from utils import process_images_with_easyocr\n",
    "\n",
    "# Process images and extract quantitative data\n",
    "ocr_results = process_images_with_easyocr('../images')\n",
    "\n",
    "# Print extracted quantitative data\n",
    "for image_name, data in ocr_results.items():\n",
    "    print(f\"Quantitative data extracted from {image_name}: {data}\")"
   ]
  },
  {
   "cell_type": "code",
   "execution_count": null,
   "id": "89aaba53",
   "metadata": {},
   "outputs": [],
   "source": [
    "# Shivansh pytesseract\n",
    "from utils import process_images_with_ocr\n",
    "\n",
    "ocr_results = process_images_with_ocr(sample_test['image_link'], '../del_images')\n",
    "\n",
    "for image_name, text in ocr_results.items():\n",
    "    print(f\"Text extracted from {image_name}: {text}\")"
   ]
  },
  {
   "cell_type": "code",
   "execution_count": null,
   "id": "bd488aa7",
   "metadata": {},
   "outputs": [],
   "source": [
    "assert len(os.listdir('../images')) > 0"
   ]
  },
  {
   "cell_type": "code",
   "execution_count": 15,
   "id": "1ba3d802",
   "metadata": {},
   "outputs": [],
   "source": [
    "rm -rf ../images"
   ]
  },
  {
   "cell_type": "code",
   "execution_count": null,
   "id": "6c38a641",
   "metadata": {},
   "outputs": [],
   "source": [
    "import easyocr\n",
    "import re\n",
    "\n",
    "# Load EasyOCR model\n",
    "reader = easyocr.Reader(['en'])\n",
    "\n",
    "# Define allowed units based on entity type (you can expand this)\n",
    "units_dict = {\n",
    "    'width': ['millimetre', 'centimetre', 'metre', 'inch', 'foot', 'yard'],\n",
    "    'depth': ['millimetre', 'centimetre', 'metre', 'inch', 'foot', 'yard'],\n",
    "    'height': ['millimetre', 'centimetre', 'metre', 'inch', 'foot', 'yard'],\n",
    "    'voltage': ['volt', 'kilovolt', 'millivolt'],\n",
    "    'wattage': ['watt', 'kilowatt'],\n",
    "    'item_weight': ['gram', 'kilogram', 'ton', 'pound'],\n",
    "    'maximum_weight_recommendation': ['gram', 'kilogram', 'ton', 'pound']\n",
    "}\n",
    "\n",
    "# Function to extract the prediction from OCR and process it\n",
    "def predictor(image_link, entity_name):\n",
    "    # Perform OCR to extract text from the image\n",
    "    ocr_result = reader.readtext(image_link, detail=0)\n",
    "    \n",
    "    # Join OCR results into a single string for easier searching\n",
    "    ocr_text = \" \".join(ocr_result).lower()\n",
    "    \n",
    "    # Get allowed units for the given entity\n",
    "    allowed_units = units_dict.get(entity_name, [])\n",
    "    \n",
    "    # Regex pattern to match value followed by unit (for any of the allowed units)\n",
    "    pattern = r'(\\d+\\.?\\d*)\\s?(' + '|'.join(allowed_units) + ')'\n",
    "    \n",
    "    # Search for the pattern in the OCR text\n",
    "    match = re.search(pattern, ocr_text)\n",
    "    \n",
    "    if match:\n",
    "        value = match.group(1)  # Extract the value\n",
    "        unit = match.group(2)   # Extract the unit\n",
    "        return f\"{value} {unit}\"\n",
    "    \n",
    "    # Return empty string if no match is found\n",
    "    return \"\"\n",
    "\n",
    "# Sample usage\n",
    "image_link = \"https://m.media-amazon.com/images/I/41-NCxNuBxL.jpg\"\n",
    "entity_name = \"width\"\n",
    "prediction = predictor(image_link, entity_name)\n",
    "print(prediction)\n",
    "predictor(\"https://m.media-amazon.com/images/I/41-NCxNuBxL.jpg\", \"width\")\n",
    "\n",
    "ocr_result = reader.readtext(image_link, detail=0)\n",
    "print(\"OCR Output:\", ocr_result)\n",
    "import cv2\n",
    "from PIL import Image\n",
    "import numpy as np\n",
    "\n",
    "# Download image\n",
    "image_path = '../images/41-NCxNuBxL.jpg'\n",
    "image = Image.open(image_path)\n",
    "\n",
    "# Convert to grayscale\n",
    "gray = cv2.cvtColor(np.array(image), cv2.COLOR_BGR2GRAY)\n",
    "\n",
    "# Apply thresholding\n",
    "_, thresh = cv2.threshold(gray, 150, 255, cv2.THRESH_BINARY)\n",
    "\n",
    "# Save the processed image (optional)\n",
    "cv2.imwrite(\"processed_image.jpg\", thresh)\n",
    "\n",
    "# Pass the processed image to EasyOCR\n",
    "ocr_result = reader.readtext(thresh, detail=0)\n",
    "print(\"OCR Output:\", ocr_result)\n"
   ]
  },
  {
   "cell_type": "markdown",
   "id": "877e8a58",
   "metadata": {},
   "source": [
    "### Working Code (Not for all but for more than 1)"
   ]
  },
  {
   "cell_type": "code",
   "execution_count": null,
   "id": "2dde2cd0",
   "metadata": {},
   "outputs": [],
   "source": [
    "import easyocr\n",
    "import re\n",
    "import cv2\n",
    "from PIL import Image\n",
    "import numpy as np\n",
    "import os\n",
    "\n",
    "# Load EasyOCR model\n",
    "reader = easyocr.Reader(['en'])\n",
    "\n",
    "# Updated entity-unit map\n",
    "entity_unit_map = {\n",
    "    \"width\": {\"centimetre\", \"foot\", \"millimetre\", \"metre\", \"inch\", \"yard\"},\n",
    "    \"depth\": {\"centimetre\", \"foot\", \"millimetre\", \"metre\", \"inch\", \"yard\"},\n",
    "    \"height\": {\"centimetre\", \"foot\", \"millimetre\", \"metre\", \"inch\", \"yard\"},\n",
    "    \"item_weight\": {\"milligram\", \"kilogram\", \"microgram\", \"gram\", \"ounce\", \"ton\", \"pound\"},\n",
    "    \"maximum_weight_recommendation\": {\"milligram\", \"kilogram\", \"microgram\", \"gram\", \"ounce\", \"ton\", \"pound\"},\n",
    "    \"voltage\": {\"millivolt\", \"kilovolt\", \"volt\"},\n",
    "    \"wattage\": {\"kilowatt\", \"watt\"},\n",
    "    \"item_volume\": {\"cubic foot\", \"microlitre\", \"cup\", \"fluid ounce\", \"centilitre\", \"imperial gallon\", \"pint\", \"decilitre\", \"litre\", \"millilitre\", \"quart\", \"cubic inch\", \"gallon\"}\n",
    "}\n",
    "\n",
    "# Function to extract the prediction from OCR and process it\n",
    "def predictor(image_path):\n",
    "    # Open the image and apply preprocessing\n",
    "    image = Image.open(image_path)\n",
    "    gray = cv2.cvtColor(np.array(image), cv2.COLOR_BGR2GRAY)\n",
    "    _, thresh = cv2.threshold(gray, 150, 255, cv2.THRESH_BINARY)\n",
    "\n",
    "    # Perform OCR to extract text from the processed image\n",
    "    ocr_result = reader.readtext(thresh, detail=0)\n",
    "    \n",
    "    # Join OCR results into a single string for easier searching\n",
    "    ocr_text = \" \".join(ocr_result).lower()\n",
    "\n",
    "    # Results to store predictions\n",
    "    results = []\n",
    "\n",
    "    # Loop through the entity_unit_map and try to find any matches\n",
    "    for entity_name, allowed_units in entity_unit_map.items():\n",
    "        # Build regex pattern for matching the entity and allowed units\n",
    "        pattern = r'(\\d+\\.?\\d*)\\s?(' + '|'.join(allowed_units) + ')'\n",
    "        \n",
    "        # Search for the pattern in the OCR text\n",
    "        match = re.search(pattern, ocr_text)\n",
    "        \n",
    "        if match:\n",
    "            value = match.group(1)  # Extract the value\n",
    "            unit = match.group(2)   # Extract the unit\n",
    "            results.append(f\"{entity_name}: {value} {unit}\")\n",
    "    \n",
    "    # If results are found, return them, otherwise return empty string\n",
    "    if results:\n",
    "        return \" \".join(results)\n",
    "    else:\n",
    "        return \"\"\n",
    "\n",
    "\n",
    "# Automatically get all image paths from the 'images' folder\n",
    "image_folder = '../images'  # Replace with your folder path\n",
    "image_paths = [os.path.join(image_folder, fname) for fname in os.listdir(image_folder) if fname.endswith(('.jpg', '.png', '.jpeg'))]\n",
    "\n",
    "# Process all images and print results\n",
    "for idx, image_path in enumerate(image_paths, 1):\n",
    "    result = predictor(image_path)\n",
    "    if result:\n",
    "        print(f\"{idx}. {result}\")\n",
    "    else:\n",
    "        print(f\"{idx}. No entities detected\")\n"
   ]
  },
  {
   "cell_type": "code",
   "execution_count": null,
   "id": "89b683b8",
   "metadata": {},
   "outputs": [],
   "source": []
  }
 ],
 "metadata": {
  "kernelspec": {
   "display_name": "Python 3",
   "language": "python",
   "name": "python3"
  },
  "language_info": {
   "codemirror_mode": {
    "name": "ipython",
    "version": 3
   },
   "file_extension": ".py",
   "mimetype": "text/x-python",
   "name": "python",
   "nbconvert_exporter": "python",
   "pygments_lexer": "ipython3",
   "version": "3.12.1"
  }
 },
 "nbformat": 4,
 "nbformat_minor": 5
}
