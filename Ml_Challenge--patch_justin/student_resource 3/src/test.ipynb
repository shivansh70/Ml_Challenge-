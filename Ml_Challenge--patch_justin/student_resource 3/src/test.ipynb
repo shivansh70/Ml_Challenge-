{
 "cells": [
  {
   "cell_type": "markdown",
   "id": "1b70b34e",
   "metadata": {},
   "source": [
    "### Basic library imports"
   ]
  },
  {
   "cell_type": "code",
   "execution_count": 1,
   "id": "719d15af",
   "metadata": {},
   "outputs": [],
   "source": [
    "import os\n",
    "import pandas as pd"
   ]
  },
  {
   "cell_type": "markdown",
   "id": "b8911e33",
   "metadata": {},
   "source": [
    "### Read Dataset"
   ]
  },
  {
   "cell_type": "code",
   "execution_count": 2,
   "id": "d3136aac",
   "metadata": {},
   "outputs": [],
   "source": [
    "DATASET_FOLDER = '../dataset/'\n",
    "train = pd.read_csv(os.path.join(DATASET_FOLDER, 'train.csv'))\n",
    "test = pd.read_csv(os.path.join(DATASET_FOLDER, 'test.csv'))\n",
    "sample_test = pd.read_csv(os.path.join(DATASET_FOLDER, 'sample_test.csv'))\n",
    "sample_test_out = pd.read_csv(os.path.join(DATASET_FOLDER, 'sample_test_out.csv'))"
   ]
  },
  {
   "cell_type": "markdown",
   "id": "60ebd689",
   "metadata": {},
   "source": [
    "### Run Sanity check using src/sanity.py"
   ]
  },
  {
   "cell_type": "code",
   "execution_count": null,
   "id": "81bb3988",
   "metadata": {},
   "outputs": [],
   "source": [
    "!python sanity.py --test_filename ../dataset/sample_test.csv --output_filename ../dataset/sample_test_out.csv"
   ]
  },
  {
   "cell_type": "code",
   "execution_count": null,
   "id": "5aa79459",
   "metadata": {},
   "outputs": [],
   "source": [
    "!python sanity.py --test_filename ../dataset/sample_test.csv --output_filename ../dataset/sample_test_out_fail.csv"
   ]
  },
  {
   "cell_type": "markdown",
   "id": "dbe930a8",
   "metadata": {},
   "source": [
    "### Download images"
   ]
  },
  {
   "cell_type": "code",
   "execution_count": null,
   "id": "911196f2",
   "metadata": {},
   "outputs": [],
   "source": [
    "from utils import download_images\n",
    "download_images(sample_test['image_link'], '../images')"
   ]
  },
  {
   "cell_type": "code",
   "execution_count": null,
   "id": "8d825816",
   "metadata": {},
   "outputs": [],
   "source": [
    "# Justin Pytesseract\n",
    "from utils import process_images_with_ocr_justin\n",
    "\n",
    "del_ocr_results = process_images_with_ocr_justin('../del_images2')\n",
    "print(del_ocr_results)\n",
    "\n",
    "for image_name, text in del_ocr_results.items():\n",
    "    print(f\"Text extracted from {image_name}: {text}\")\n"
   ]
  },
  {
   "cell_type": "code",
   "execution_count": null,
   "id": "70e954b5",
   "metadata": {},
   "outputs": [],
   "source": [
    "# easyocr\n",
    "from utils import process_images_with_easyocr\n",
    "\n",
    "del_ocr_results = process_images_with_easyocr('../images') #directly pass the path of images directory as argument\n",
    "# print(del_ocr_results)\n",
    "\n",
    "for image_name, text in del_ocr_results.items():\n",
    "    print(f\"Text extracted from {image_name}: {text}\")\n"
   ]
  },
  {
   "cell_type": "code",
   "execution_count": null,
   "id": "89aaba53",
   "metadata": {},
   "outputs": [],
   "source": [
    "# Shivansh pytesseract\n",
    "from utils import process_images_with_ocr\n",
    "\n",
    "ocr_results = process_images_with_ocr(sample_test['image_link'], '../images')\n",
    "\n",
    "for image_name, text in ocr_results.items():\n",
    "    print(f\"Text extracted from {image_name}: {text}\")"
   ]
  },
  {
   "cell_type": "code",
   "execution_count": null,
   "metadata": {},
   "outputs": [],
   "source": [
    "assert len(os.listdir('../images')) > 0"
   ]
  },
  {
   "cell_type": "code",
   "execution_count": 15,
   "id": "1ba3d802",
   "metadata": {},
   "outputs": [],
   "source": [
    "rm -rf ../images"
   ]
  },
  {
   "cell_type": "code",
   "execution_count": null,
   "id": "6c38a641",
   "metadata": {},
   "outputs": [],
   "source": []
  }
 ],
 "metadata": {
  "kernelspec": {
   "display_name": "Python 3",
   "language": "python",
   "name": "python3"
  },
  "language_info": {
   "codemirror_mode": {
    "name": "ipython",
    "version": 3
   },
   "file_extension": ".py",
   "mimetype": "text/x-python",
   "name": "python",
   "nbconvert_exporter": "python",
   "pygments_lexer": "ipython3",
   "version": "3.11.4"
  }
 },
 "nbformat": 4,
 "nbformat_minor": 5
}
