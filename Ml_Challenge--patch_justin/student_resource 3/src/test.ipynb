{
 "cells": [
  {
   "cell_type": "markdown",
   "id": "1b70b34e",
   "metadata": {},
   "source": [
    "### Basic library imports"
   ]
  },
  {
   "cell_type": "code",
   "execution_count": 1,
   "id": "719d15af",
   "metadata": {},
   "outputs": [],
   "source": [
    "import os\n",
    "import pandas as pd"
   ]
  },
  {
   "cell_type": "markdown",
   "id": "b8911e33",
   "metadata": {},
   "source": [
    "### Read Dataset"
   ]
  },
  {
   "cell_type": "code",
   "execution_count": 2,
   "id": "d3136aac",
   "metadata": {},
   "outputs": [],
   "source": [
    "DATASET_FOLDER = '../dataset/'\n",
    "train = pd.read_csv(os.path.join(DATASET_FOLDER, 'train.csv'))\n",
    "test = pd.read_csv(os.path.join(DATASET_FOLDER, 'test.csv'))\n",
    "sample_test = pd.read_csv(os.path.join(DATASET_FOLDER, 'sample_test.csv'))\n",
    "sample_test_out = pd.read_csv(os.path.join(DATASET_FOLDER, 'sample_test_out.csv'))"
   ]
  },
  {
   "cell_type": "markdown",
   "id": "60ebd689",
   "metadata": {},
   "source": [
    "### Run Sanity check using src/sanity.py"
   ]
  },
  {
   "cell_type": "code",
   "execution_count": 3,
   "id": "81bb3988",
   "metadata": {},
   "outputs": [
    {
     "name": "stdout",
     "output_type": "stream",
     "text": [
      "Parsing successfull for file: ../dataset/sample_test_out.csv\n"
     ]
    }
   ],
   "source": [
    "!python sanity.py --test_filename ../dataset/sample_test.csv --output_filename ../dataset/sample_test_out.csv"
   ]
  },
  {
   "cell_type": "code",
   "execution_count": 4,
   "id": "5aa79459",
   "metadata": {},
   "outputs": [
    {
     "name": "stdout",
     "output_type": "stream",
     "text": [
      "Error: Invalid unit [lbs] found in 6.75 lbs. Allowed units: {'metre', 'milligram', 'gram', 'centilitre', 'kilogram', 'watt', 'microlitre', 'foot', 'microgram', 'kilowatt', 'volt', 'cubic foot', 'centimetre', 'millimetre', 'pint', 'inch', 'ounce', 'pound', 'millivolt', 'gallon', 'ton', 'kilovolt', 'millilitre', 'decilitre', 'cubic inch', 'fluid ounce', 'litre', 'imperial gallon', 'cup', 'quart', 'yard'}\n"
     ]
    }
   ],
   "source": [
    "!python sanity.py --test_filename ../dataset/sample_test.csv --output_filename ../dataset/sample_test_out_fail.csv"
   ]
  },
  {
   "cell_type": "markdown",
   "id": "dbe930a8",
   "metadata": {},
   "source": [
    "### Download images"
   ]
  },
  {
   "cell_type": "code",
   "execution_count": 5,
   "id": "911196f2",
   "metadata": {},
   "outputs": [
    {
     "name": "stderr",
     "output_type": "stream",
     "text": [
      "100%|██████████| 88/88 [01:35<00:00,  1.09s/it] \n"
     ]
    },
    {
     "data": {
      "text/plain": [
       "['../images\\\\41-NCxNuBxL.jpg',\n",
       " '../images\\\\41-NCxNuBxL.jpg',\n",
       " '../images\\\\417NJrPEk+L.jpg',\n",
       " '../images\\\\417SThj+SrL.jpg',\n",
       " '../images\\\\417SThj+SrL.jpg',\n",
       " '../images\\\\41ADVPQgZOL.jpg',\n",
       " '../images\\\\41nblnEkJ3L.jpg',\n",
       " '../images\\\\41nblnEkJ3L.jpg',\n",
       " '../images\\\\41o3iis9E7L.jpg',\n",
       " '../images\\\\41pvwR9GbaL.jpg',\n",
       " '../images\\\\41uwo4PVnuL.jpg',\n",
       " '../images\\\\41uwo4PVnuL.jpg',\n",
       " '../images\\\\41ygXRvf8lL.jpg',\n",
       " '../images\\\\41ygXRvf8lL.jpg',\n",
       " '../images\\\\41zgjN+zW3L.jpg',\n",
       " '../images\\\\51+oHGvSvuL.jpg',\n",
       " '../images\\\\51+oHGvSvuL.jpg',\n",
       " '../images\\\\51-WIOx5pxL.jpg',\n",
       " '../images\\\\51-WIOx5pxL.jpg',\n",
       " '../images\\\\510xYFNYQ8L.jpg',\n",
       " '../images\\\\510xYFNYQ8L.jpg',\n",
       " '../images\\\\510xYFNYQ8L.jpg',\n",
       " '../images\\\\514bY8c4ZIL.jpg',\n",
       " '../images\\\\514bY8c4ZIL.jpg',\n",
       " '../images\\\\514pScQdlCL.jpg',\n",
       " '../images\\\\514pScQdlCL.jpg',\n",
       " '../images\\\\51BEuVR4ZzL.jpg',\n",
       " '../images\\\\51BEuVR4ZzL.jpg',\n",
       " '../images\\\\51EBBqNOJ1L.jpg',\n",
       " '../images\\\\51EBBqNOJ1L.jpg',\n",
       " '../images\\\\51EBBqNOJ1L.jpg',\n",
       " '../images\\\\51FSlaVlejL.jpg',\n",
       " '../images\\\\51H+mX2Wk7L.jpg',\n",
       " '../images\\\\51H+mX2Wk7L.jpg',\n",
       " '../images\\\\51KykmLgc0L.jpg',\n",
       " '../images\\\\51P0IuT6RsL.jpg',\n",
       " '../images\\\\51Su6zXkAsL.jpg',\n",
       " '../images\\\\51bEy0J5wLL.jpg',\n",
       " '../images\\\\51cPZYLk2YL.jpg',\n",
       " '../images\\\\51fAzxNm+cL.jpg',\n",
       " '../images\\\\51fAzxNm+cL.jpg',\n",
       " '../images\\\\51fAzxNm+cL.jpg',\n",
       " '../images\\\\51jTe522S2L.jpg',\n",
       " '../images\\\\51kdBAv6ImL.jpg',\n",
       " '../images\\\\51kdBAv6ImL.jpg',\n",
       " '../images\\\\51l6c6UcRZL.jpg',\n",
       " '../images\\\\51oaOP8qJlL.jpg',\n",
       " '../images\\\\51oaOP8qJlL.jpg',\n",
       " '../images\\\\51r7U52rh7L.jpg',\n",
       " '../images\\\\51r7U52rh7L.jpg',\n",
       " '../images\\\\51r7U52rh7L.jpg',\n",
       " '../images\\\\51tEop-EBJL.jpg',\n",
       " '../images\\\\51vwYpDz2tL.jpg',\n",
       " '../images\\\\51y79cwGJFL.jpg',\n",
       " '../images\\\\51y79cwGJFL.jpg',\n",
       " '../images\\\\51y79cwGJFL.jpg',\n",
       " '../images\\\\613P5cxQH4L.jpg',\n",
       " '../images\\\\613P5cxQH4L.jpg',\n",
       " '../images\\\\614hn5uX9MS.jpg',\n",
       " '../images\\\\615Cjzm6pyL.jpg',\n",
       " '../images\\\\615Cjzm6pyL.jpg',\n",
       " '../images\\\\61C+fwVD6dL.jpg',\n",
       " '../images\\\\61E2XRNSdYL.jpg',\n",
       " '../images\\\\61G8bvWOb-L.jpg',\n",
       " '../images\\\\61G8bvWOb-L.jpg',\n",
       " '../images\\\\61O+Yi09tyL.jpg',\n",
       " '../images\\\\61lX6IP1SVL.jpg',\n",
       " '../images\\\\71Qk6hR9-WL.jpg',\n",
       " '../images\\\\71Qk6hR9-WL.jpg',\n",
       " '../images\\\\71UN1IxKp4L.jpg',\n",
       " '../images\\\\71UN1IxKp4L.jpg',\n",
       " '../images\\\\71UYDq4nfnL.jpg',\n",
       " '../images\\\\71UYDq4nfnL.jpg',\n",
       " '../images\\\\71WAjPMQDWL.jpg',\n",
       " '../images\\\\71WAjPMQDWL.jpg',\n",
       " '../images\\\\71afEPoRGsL.jpg',\n",
       " '../images\\\\71afEPoRGsL.jpg',\n",
       " '../images\\\\71eCfiIG-AL.jpg',\n",
       " '../images\\\\71fWddA0+yL.jpg',\n",
       " '../images\\\\71ta6wY3HtL.jpg',\n",
       " '../images\\\\71ta6wY3HtL.jpg',\n",
       " '../images\\\\71v+pim0lfL.jpg',\n",
       " '../images\\\\71v+pim0lfL.jpg',\n",
       " '../images\\\\81IYdOV0mVL.jpg',\n",
       " '../images\\\\81PG3ea0MOL.jpg',\n",
       " '../images\\\\81aZ2ozp1GL.jpg',\n",
       " '../images\\\\81qUmRUUTTL.jpg',\n",
       " '../images\\\\81qUmRUUTTL.jpg']"
      ]
     },
     "execution_count": 5,
     "metadata": {},
     "output_type": "execute_result"
    }
   ],
   "source": [
    "from utils import download_images\n",
    "download_images(sample_test['image_link'], '../images')"
   ]
  },
  {
   "cell_type": "code",
   "execution_count": 1,
   "id": "70e954b5",
   "metadata": {},
   "outputs": [
    {
     "name": "stderr",
     "output_type": "stream",
     "text": [
      "Neither CUDA nor MPS are available - defaulting to CPU. Note: This module is much faster with a GPU.\n",
      "C:\\Users\\HELLO\\AppData\\Roaming\\Python\\Python312\\site-packages\\easyocr\\detection.py:78: FutureWarning: You are using `torch.load` with `weights_only=False` (the current default value), which uses the default pickle module implicitly. It is possible to construct malicious pickle data which will execute arbitrary code during unpickling (See https://github.com/pytorch/pytorch/blob/main/SECURITY.md#untrusted-models for more details). In a future release, the default value for `weights_only` will be flipped to `True`. This limits the functions that could be executed during unpickling. Arbitrary objects will no longer be allowed to be loaded via this mode unless they are explicitly allowlisted by the user via `torch.serialization.add_safe_globals`. We recommend you start setting `weights_only=True` for any use case where you don't have full control of the loaded file. Please open an issue on GitHub for any issues related to this experimental feature.\n",
      "  net.load_state_dict(copyStateDict(torch.load(trained_model, map_location=device)))\n",
      "C:\\Users\\HELLO\\AppData\\Roaming\\Python\\Python312\\site-packages\\easyocr\\recognition.py:169: FutureWarning: You are using `torch.load` with `weights_only=False` (the current default value), which uses the default pickle module implicitly. It is possible to construct malicious pickle data which will execute arbitrary code during unpickling (See https://github.com/pytorch/pytorch/blob/main/SECURITY.md#untrusted-models for more details). In a future release, the default value for `weights_only` will be flipped to `True`. This limits the functions that could be executed during unpickling. Arbitrary objects will no longer be allowed to be loaded via this mode unless they are explicitly allowlisted by the user via `torch.serialization.add_safe_globals`. We recommend you start setting `weights_only=True` for any use case where you don't have full control of the loaded file. Please open an issue on GitHub for any issues related to this experimental feature.\n",
      "  state_dict = torch.load(model_path, map_location=device)\n"
     ]
    },
    {
     "name": "stdout",
     "output_type": "stream",
     "text": [
      "Quantitative data extracted from 41-NCxNuBxL.jpg: {}\n",
      "Quantitative data extracted from 417NJrPEk+L.jpg: {}\n",
      "Quantitative data extracted from 417SThj+SrL.jpg: {}\n",
      "Quantitative data extracted from 41ADVPQgZOL.jpg: {}\n",
      "Quantitative data extracted from 41nblnEkJ3L.jpg: {}\n",
      "Quantitative data extracted from 41o3iis9E7L.jpg: {}\n",
      "Quantitative data extracted from 41pvwR9GbaL.jpg: {}\n",
      "Quantitative data extracted from 41uwo4PVnuL.jpg: {}\n",
      "Quantitative data extracted from 41ygXRvf8lL.jpg: {}\n",
      "Quantitative data extracted from 41zgjN+zW3L.jpg: {}\n",
      "Quantitative data extracted from 51+oHGvSvuL.jpg: {}\n",
      "Quantitative data extracted from 51-WIOx5pxL.jpg: {}\n",
      "Quantitative data extracted from 510xYFNYQ8L.jpg: {}\n",
      "Quantitative data extracted from 514bY8c4ZIL.jpg: {}\n",
      "Quantitative data extracted from 514pScQdlCL.jpg: {}\n",
      "Quantitative data extracted from 51BEuVR4ZzL.jpg: {}\n",
      "Quantitative data extracted from 51bEy0J5wLL.jpg: {}\n",
      "Quantitative data extracted from 51cPZYLk2YL.jpg: {}\n",
      "Quantitative data extracted from 51EBBqNOJ1L.jpg: {'inch': '7.8'}\n",
      "Quantitative data extracted from 51fAzxNm+cL.jpg: {}\n",
      "Quantitative data extracted from 51FSlaVlejL.jpg: {}\n",
      "Quantitative data extracted from 51H+mX2Wk7L.jpg: {}\n",
      "Quantitative data extracted from 51jTe522S2L.jpg: {}\n",
      "Quantitative data extracted from 51kdBAv6ImL.jpg: {}\n",
      "Quantitative data extracted from 51KykmLgc0L.jpg: {}\n",
      "Quantitative data extracted from 51l6c6UcRZL.jpg: {}\n",
      "Quantitative data extracted from 51oaOP8qJlL.jpg: {}\n",
      "Quantitative data extracted from 51P0IuT6RsL.jpg: {}\n",
      "Quantitative data extracted from 51r7U52rh7L.jpg: {}\n",
      "Quantitative data extracted from 51Su6zXkAsL.jpg: {}\n",
      "Quantitative data extracted from 51tEop-EBJL.jpg: {}\n",
      "Quantitative data extracted from 51vwYpDz2tL.jpg: {}\n",
      "Quantitative data extracted from 51y79cwGJFL.jpg: {}\n",
      "Quantitative data extracted from 613P5cxQH4L.jpg: {}\n",
      "Quantitative data extracted from 614hn5uX9MS.jpg: {}\n",
      "Quantitative data extracted from 615Cjzm6pyL.jpg: {}\n",
      "Quantitative data extracted from 61C+fwVD6dL.jpg: {}\n",
      "Quantitative data extracted from 61E2XRNSdYL.jpg: {}\n",
      "Quantitative data extracted from 61G8bvWOb-L.jpg: {}\n",
      "Quantitative data extracted from 61lX6IP1SVL.jpg: {}\n",
      "Quantitative data extracted from 61O+Yi09tyL.jpg: {}\n",
      "Quantitative data extracted from 71afEPoRGsL.jpg: {}\n",
      "Quantitative data extracted from 71eCfiIG-AL.jpg: {}\n",
      "Quantitative data extracted from 71fWddA0+yL.jpg: {}\n",
      "Quantitative data extracted from 71Qk6hR9-WL.jpg: {}\n",
      "Quantitative data extracted from 71ta6wY3HtL.jpg: {}\n",
      "Quantitative data extracted from 71UN1IxKp4L.jpg: {}\n",
      "Quantitative data extracted from 71UYDq4nfnL.jpg: {}\n",
      "Quantitative data extracted from 71v+pim0lfL.jpg: {'inch': '4.1'}\n",
      "Quantitative data extracted from 71WAjPMQDWL.jpg: {}\n",
      "Quantitative data extracted from 81aZ2ozp1GL.jpg: {}\n",
      "Quantitative data extracted from 81IYdOV0mVL.jpg: {}\n",
      "Quantitative data extracted from 81PG3ea0MOL.jpg: {}\n",
      "Quantitative data extracted from 81qUmRUUTTL.jpg: {}\n"
     ]
    }
   ],
   "source": [
    "from utils import process_images_with_easyocr\n",
    "\n",
    "# Process images and extract quantitative data\n",
    "ocr_results = process_images_with_easyocr('../images')\n",
    "\n",
    "# Print extracted quantitative data\n",
    "for image_name, data in ocr_results.items():\n",
    "    print(f\"Quantitative data extracted from {image_name}: {data}\")"
   ]
  },
  {
   "cell_type": "code",
   "execution_count": null,
   "id": "89aaba53",
   "metadata": {},
   "outputs": [],
   "source": [
    "# Shivansh pytesseract\n",
    "from utils import process_images_with_ocr\n",
    "\n",
    "ocr_results = process_images_with_ocr(sample_test['image_link'], '../del_images')\n",
    "\n",
    "for image_name, text in ocr_results.items():\n",
    "    print(f\"Text extracted from {image_name}: {text}\")"
   ]
  },
  {
   "cell_type": "code",
   "execution_count": null,
   "metadata": {},
   "outputs": [],
   "source": [
    "assert len(os.listdir('../images')) > 0"
   ]
  },
  {
   "cell_type": "code",
   "execution_count": 15,
   "id": "1ba3d802",
   "metadata": {},
   "outputs": [],
   "source": [
    "rm -rf ../images"
   ]
  },
  {
   "cell_type": "code",
   "execution_count": null,
   "id": "6c38a641",
   "metadata": {},
   "outputs": [],
   "source": []
  }
 ],
 "metadata": {
  "kernelspec": {
   "display_name": "Python 3",
   "language": "python",
   "name": "python3"
  },
  "language_info": {
   "codemirror_mode": {
    "name": "ipython",
    "version": 3
   },
   "file_extension": ".py",
   "mimetype": "text/x-python",
   "name": "python",
   "nbconvert_exporter": "python",
   "pygments_lexer": "ipython3",
   "version": "3.12.1"
  }
 },
 "nbformat": 4,
 "nbformat_minor": 5
}
