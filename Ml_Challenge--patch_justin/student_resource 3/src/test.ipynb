{
 "cells": [
  {
   "cell_type": "markdown",
   "id": "1b70b34e",
   "metadata": {},
   "source": [
    "### Basic library imports"
   ]
  },
  {
   "cell_type": "code",
   "execution_count": 9,
   "id": "719d15af",
   "metadata": {},
   "outputs": [],
   "source": [
    "import os\n",
    "import pandas as pd"
   ]
  },
  {
   "cell_type": "markdown",
   "id": "b8911e33",
   "metadata": {},
   "source": [
    "### Read Dataset"
   ]
  },
  {
   "cell_type": "code",
   "execution_count": 10,
   "id": "d3136aac",
   "metadata": {},
   "outputs": [],
   "source": [
    "DATASET_FOLDER = '../dataset/'\n",
    "train = pd.read_csv(os.path.join(DATASET_FOLDER, 'train.csv'))\n",
    "test = pd.read_csv(os.path.join(DATASET_FOLDER, 'test.csv'))\n",
    "sample_test = pd.read_csv(os.path.join(DATASET_FOLDER, 'sample_test.csv'))\n",
    "sample_test_out = pd.read_csv(os.path.join(DATASET_FOLDER, 'sample_test_out.csv'))"
   ]
  },
  {
   "cell_type": "markdown",
   "id": "60ebd689",
   "metadata": {},
   "source": [
    "### Run Sanity check using src/sanity.py"
   ]
  },
  {
   "cell_type": "code",
   "execution_count": 11,
   "id": "81bb3988",
   "metadata": {},
   "outputs": [
    {
     "name": "stdout",
     "output_type": "stream",
     "text": [
      "Parsing successfull for file: ../dataset/sample_test_out.csv\n"
     ]
    }
   ],
   "source": [
    "!python sanity.py --test_filename ../dataset/sample_test.csv --output_filename ../dataset/sample_test_out.csv"
   ]
  },
  {
   "cell_type": "code",
   "execution_count": 12,
   "id": "5aa79459",
   "metadata": {},
   "outputs": [
    {
     "name": "stdout",
     "output_type": "stream",
     "text": [
      "Error: Invalid unit [lbs] found in 6.75 lbs. Allowed units: {'cubic inch', 'microlitre', 'milligram', 'decilitre', 'gallon', 'volt', 'litre', 'imperial gallon', 'watt', 'fluid ounce', 'gram', 'ton', 'millilitre', 'centimetre', 'kilogram', 'microgram', 'centilitre', 'yard', 'foot', 'cup', 'kilowatt', 'pound', 'kilovolt', 'ounce', 'cubic foot', 'millivolt', 'metre', 'inch', 'pint', 'millimetre', 'quart'}\n"
     ]
    }
   ],
   "source": [
    "!python sanity.py --test_filename ../dataset/sample_test.csv --output_filename ../dataset/sample_test_out_fail.csv"
   ]
  },
  {
   "cell_type": "markdown",
   "id": "dbe930a8",
   "metadata": {},
   "source": [
    "### Download images"
   ]
  },
  {
   "cell_type": "code",
   "execution_count": null,
   "id": "911196f2",
   "metadata": {},
   "outputs": [],
   "source": [
    "from utils import download_images\n",
    "download_images(sample_test['image_link'], '../images')"
   ]
  },
  {
   "cell_type": "code",
   "execution_count": 13,
   "id": "8d825816",
   "metadata": {},
   "outputs": [
    {
     "name": "stdout",
     "output_type": "stream",
     "text": [
      "{'617Tl40LOXL': 'HIGH STRENGTH\\n\\nPSYLLIUM\\n\\nHUSK\\n\\n', 'sample1': '', 'sample2': '1400.\\nSE 36510\\n', 'sample3': 'PSYL\\nHU\\n'}\n",
      "Text extracted from 617Tl40LOXL: HIGH STRENGTH\n",
      "\n",
      "PSYLLIUM\n",
      "\n",
      "HUSK\n",
      "\n",
      "\n",
      "Text extracted from sample1: \n",
      "Text extracted from sample2: 1400.\n",
      "SE 36510\n",
      "\n",
      "Text extracted from sample3: PSYL\n",
      "HU\n",
      "\n"
     ]
    }
   ],
   "source": [
    "# Justin Pytesseract\n",
    "from utils import process_images_with_ocr_justin\n",
    "\n",
    "del_ocr_results = process_images_with_ocr_justin('../del_images2')\n",
    "print(del_ocr_results)\n",
    "\n",
    "for image_name, text in del_ocr_results.items():\n",
    "    print(f\"Text extracted from {image_name}: {text}\")\n"
   ]
  },
  {
   "cell_type": "code",
   "execution_count": 17,
   "id": "70e954b5",
   "metadata": {},
   "outputs": [
    {
     "name": "stderr",
     "output_type": "stream",
     "text": [
      "Neither CUDA nor MPS are available - defaulting to CPU. Note: This module is much faster with a GPU.\n"
     ]
    },
    {
     "name": "stdout",
     "output_type": "stream",
     "text": [
      "Quantitative data extracted from 617Tl40LOXL: Horbaach' HIGH StRENGTH PSYLLIUM HUSK PLANTAGO OVATA 1400mG PLANT SEEDS FOOD VEGAN SUPPLEMENT 365 CAPSULES\n",
      "Quantitative data extracted from 61I9XdN6OFL: PROPOS' NATURE INGREDIENT MENAGER MULTI-USAGE TERRE dE SOMMIERES 4100% NATUREL Argile 10036 pure et   naturelle Lerre Sommierespreserte des proprietes absorbantes qui permettent nelloyage sec des laches recalcitrantes Sur toutes les surfaces (moquette; tapis; parquel_- Elle est aussi efficace desodoriser linge: Ingredient Bentonite Dosage conseille Sclon usage. S[Dan Lunponpace catl{ I 0t inunEi4 Wzouupl Rtiu fos; Lnfonr 00% R500 g Jusuc LABORATOIRE FROPOSNATURE UCUGRLDC . [uacoJi JHH4604 Jc+raaley 'Mp\"0pr-nJincon 780 103 pour 'Pnz\n",
      "Quantitative data extracted from 61o2ntPNNgL: 28\" 2 7 FREEWHEELS 800w 36V GABEL MINDESTBREITE 135MM HINTERRAD MIT BRUSHLESS MOTOR\n",
      "Quantitative data extracted from 71gSRbyXmoL: TLaelE=_ 7672 Xe RRIFIC LEBENSMITTELECHT Gw DAV GEPRAGTES DESIGN As YOULIKE BEST Designed in V cnre Y [Bextin ] LIZENZIERTE UND GESCHITZTE DESIGNS TEA WITH cccteics\n",
      "Quantitative data extracted from 81e2YtCOKvL: # Glucon-D KM FREE' Reguio 280g Glucon-D Net Weight: Instant Energy Ikg Occasions of use: In summer when the sun drains out energy or when hectic lifesiyle leaves You tired, your family needs the 'Instant Energy' of Glucon-D 99.4% pure Glucose Glucose is an Instant energy source for the body and is the only energy source for the brain. Vitamin Glucon-D has Vitamin D and Calcium that provides strength to the bones and body: Minerals Glucon-D has Phosphorus tat is essential for energy production and storage. So experience the 'Instant Energy' of Glucon-D with your familyl Adof 3R: 6 # %1401 9aR Vvot & rff & f #R & Hrria eraax dald & 378 rifeg Tool-&} & \"ga %fart\" ! 99.4% %& \"{r & Joei &fad &1 & JR %8 RHT &} afa & aat $9HF Hiez &1 1 facifia 4{ Ae1f7 $ &k #RR, & &asui s1 IRi & w4g Tmal &1 Farer To-3} # & qRRR , &i <f9 1791a7 sik %ize & felg 31a41d?44 8 1 Tqoi7-&} & 'gra :ifar' HSTHEG_ #r} RaR 7e ! \"Offer valid till stocks last Packs without this Offer also available. \"Offer available in specifically marked only: We would love to hear from you: 7\" Floor; \"D\" Shivsagar; Worli; Mumbal 4n0 018. Consumner Cell; Heinz India Pvt Ltd , cleedback@in hjhelnz com Toll Free No. 1800 102 5444 Visit us at: WWWheinzco in [consumer: LOT No; MFD . MRP Rs/R (NOL,OF ALL TAXES) (See space below bottom of jar.) (pack Gr: Fi Tort goh ToA-& packs \n"
     ]
    }
   ],
   "source": [
    "from utils import process_images_with_easyocr\n",
    "\n",
    "# Process images and extract quantitative data\n",
    "del_ocr_results = process_images_with_easyocr('../del_images')\n",
    "\n",
    "# Print extracted quantitative data\n",
    "for image_name, data in del_ocr_results.items():\n",
    "    print(f\"Quantitative data extracted from {image_name}: {data}\")"
   ]
  },
  {
   "cell_type": "code",
   "execution_count": null,
   "id": "89aaba53",
   "metadata": {},
   "outputs": [],
   "source": [
    "# Shivansh pytesseract\n",
    "from utils import process_images_with_ocr\n",
    "\n",
    "ocr_results = process_images_with_ocr(sample_test['image_link'], '../del_images')\n",
    "\n",
    "for image_name, text in ocr_results.items():\n",
    "    print(f\"Text extracted from {image_name}: {text}\")"
   ]
  },
  {
   "cell_type": "code",
   "execution_count": null,
   "metadata": {},
   "outputs": [],
   "source": [
    "assert len(os.listdir('../images')) > 0"
   ]
  },
  {
   "cell_type": "code",
   "execution_count": 15,
   "id": "1ba3d802",
   "metadata": {},
   "outputs": [],
   "source": [
    "rm -rf ../images"
   ]
  },
  {
   "cell_type": "code",
   "execution_count": null,
   "id": "6c38a641",
   "metadata": {},
   "outputs": [],
   "source": []
  }
 ],
 "metadata": {
  "kernelspec": {
   "display_name": "Python 3",
   "language": "python",
   "name": "python3"
  },
  "language_info": {
   "codemirror_mode": {
    "name": "ipython",
    "version": 3
   },
   "file_extension": ".py",
   "mimetype": "text/x-python",
   "name": "python",
   "nbconvert_exporter": "python",
   "pygments_lexer": "ipython3",
   "version": "3.11.4"
  }
 },
 "nbformat": 4,
 "nbformat_minor": 5
}
