{
 "cells": [
  {
   "cell_type": "markdown",
   "id": "1b70b34e",
   "metadata": {},
   "source": [
    "### Basic library imports"
   ]
  },
  {
   "cell_type": "code",
   "execution_count": 42,
   "id": "719d15af",
   "metadata": {},
   "outputs": [],
   "source": [
    "import os\n",
    "import pandas as pd"
   ]
  },
  {
   "cell_type": "markdown",
   "id": "b8911e33",
   "metadata": {},
   "source": [
    "### Read Dataset"
   ]
  },
  {
   "cell_type": "code",
   "execution_count": 43,
   "id": "d3136aac",
   "metadata": {},
   "outputs": [],
   "source": [
    "DATASET_FOLDER = '../dataset/'\n",
    "train = pd.read_csv(os.path.join(DATASET_FOLDER, 'train.csv'))\n",
    "test = pd.read_csv(os.path.join(DATASET_FOLDER, 'test.csv'))\n",
    "sample_test = pd.read_csv(os.path.join(DATASET_FOLDER, 'sample_test.csv'))\n",
    "sample_test_out = pd.read_csv(os.path.join(DATASET_FOLDER, 'sample_test_out.csv'))"
   ]
  },
  {
   "cell_type": "markdown",
   "id": "60ebd689",
   "metadata": {},
   "source": [
    "### Run Sanity check using src/sanity.py"
   ]
  },
  {
   "cell_type": "code",
   "execution_count": 44,
   "id": "81bb3988",
   "metadata": {},
   "outputs": [
    {
     "name": "stdout",
     "output_type": "stream",
     "text": [
      "Parsing successfull for file: ../dataset/sample_test_out.csv\n"
     ]
    }
   ],
   "source": [
    "!python sanity.py --test_filename ../dataset/sample_test.csv --output_filename ../dataset/sample_test_out.csv"
   ]
  },
  {
   "cell_type": "code",
   "execution_count": 45,
   "id": "5aa79459",
   "metadata": {},
   "outputs": [
    {
     "name": "stdout",
     "output_type": "stream",
     "text": [
      "Error: Invalid unit [lbs] found in 6.75 lbs. Allowed units: {'pound', 'cubic inch', 'kilovolt', 'cup', 'fluid ounce', 'gram', 'watt', 'millimetre', 'ounce', 'ton', 'inch', 'decilitre', 'yard', 'kilogram', 'microlitre', 'volt', 'gallon', 'kilowatt', 'millilitre', 'centilitre', 'metre', 'imperial gallon', 'quart', 'millivolt', 'cubic foot', 'microgram', 'litre', 'centimetre', 'foot', 'pint', 'milligram'}\n"
     ]
    }
   ],
   "source": [
    "!python sanity.py --test_filename ../dataset/sample_test.csv --output_filename ../dataset/sample_test_out_fail.csv"
   ]
  },
  {
   "cell_type": "markdown",
   "id": "dbe930a8",
   "metadata": {},
   "source": [
    "### Download images"
   ]
  },
  {
   "cell_type": "code",
   "execution_count": 30,
   "id": "911196f2",
   "metadata": {},
   "outputs": [
    {
     "name": "stderr",
     "output_type": "stream",
     "text": [
      "100%|██████████| 88/88 [00:10<00:00,  8.62it/s]\n"
     ]
    },
    {
     "data": {
      "text/plain": [
       "['../images\\\\41-NCxNuBxL.jpg',\n",
       " '../images\\\\41-NCxNuBxL.jpg',\n",
       " '../images\\\\417NJrPEk+L.jpg',\n",
       " '../images\\\\417SThj+SrL.jpg',\n",
       " '../images\\\\417SThj+SrL.jpg',\n",
       " '../images\\\\41ADVPQgZOL.jpg',\n",
       " '../images\\\\41nblnEkJ3L.jpg',\n",
       " '../images\\\\41nblnEkJ3L.jpg',\n",
       " '../images\\\\41o3iis9E7L.jpg',\n",
       " '../images\\\\41pvwR9GbaL.jpg',\n",
       " '../images\\\\41uwo4PVnuL.jpg',\n",
       " '../images\\\\41uwo4PVnuL.jpg',\n",
       " '../images\\\\41ygXRvf8lL.jpg',\n",
       " '../images\\\\41ygXRvf8lL.jpg',\n",
       " '../images\\\\41zgjN+zW3L.jpg',\n",
       " '../images\\\\51+oHGvSvuL.jpg',\n",
       " '../images\\\\51+oHGvSvuL.jpg',\n",
       " '../images\\\\51-WIOx5pxL.jpg',\n",
       " '../images\\\\51-WIOx5pxL.jpg',\n",
       " '../images\\\\510xYFNYQ8L.jpg',\n",
       " '../images\\\\510xYFNYQ8L.jpg',\n",
       " '../images\\\\510xYFNYQ8L.jpg',\n",
       " '../images\\\\514bY8c4ZIL.jpg',\n",
       " '../images\\\\514bY8c4ZIL.jpg',\n",
       " '../images\\\\514pScQdlCL.jpg',\n",
       " '../images\\\\514pScQdlCL.jpg',\n",
       " '../images\\\\51BEuVR4ZzL.jpg',\n",
       " '../images\\\\51BEuVR4ZzL.jpg',\n",
       " '../images\\\\51EBBqNOJ1L.jpg',\n",
       " '../images\\\\51EBBqNOJ1L.jpg',\n",
       " '../images\\\\51EBBqNOJ1L.jpg',\n",
       " '../images\\\\51FSlaVlejL.jpg',\n",
       " '../images\\\\51H+mX2Wk7L.jpg',\n",
       " '../images\\\\51H+mX2Wk7L.jpg',\n",
       " '../images\\\\51KykmLgc0L.jpg',\n",
       " '../images\\\\51P0IuT6RsL.jpg',\n",
       " '../images\\\\51Su6zXkAsL.jpg',\n",
       " '../images\\\\51bEy0J5wLL.jpg',\n",
       " '../images\\\\51cPZYLk2YL.jpg',\n",
       " '../images\\\\51fAzxNm+cL.jpg',\n",
       " '../images\\\\51fAzxNm+cL.jpg',\n",
       " '../images\\\\51fAzxNm+cL.jpg',\n",
       " '../images\\\\51jTe522S2L.jpg',\n",
       " '../images\\\\51kdBAv6ImL.jpg',\n",
       " '../images\\\\51kdBAv6ImL.jpg',\n",
       " '../images\\\\51l6c6UcRZL.jpg',\n",
       " '../images\\\\51oaOP8qJlL.jpg',\n",
       " '../images\\\\51oaOP8qJlL.jpg',\n",
       " '../images\\\\51r7U52rh7L.jpg',\n",
       " '../images\\\\51r7U52rh7L.jpg',\n",
       " '../images\\\\51r7U52rh7L.jpg',\n",
       " '../images\\\\51tEop-EBJL.jpg',\n",
       " '../images\\\\51vwYpDz2tL.jpg',\n",
       " '../images\\\\51y79cwGJFL.jpg',\n",
       " '../images\\\\51y79cwGJFL.jpg',\n",
       " '../images\\\\51y79cwGJFL.jpg',\n",
       " '../images\\\\613P5cxQH4L.jpg',\n",
       " '../images\\\\613P5cxQH4L.jpg',\n",
       " '../images\\\\614hn5uX9MS.jpg',\n",
       " '../images\\\\615Cjzm6pyL.jpg',\n",
       " '../images\\\\615Cjzm6pyL.jpg',\n",
       " '../images\\\\61C+fwVD6dL.jpg',\n",
       " '../images\\\\61E2XRNSdYL.jpg',\n",
       " '../images\\\\61G8bvWOb-L.jpg',\n",
       " '../images\\\\61G8bvWOb-L.jpg',\n",
       " '../images\\\\61O+Yi09tyL.jpg',\n",
       " '../images\\\\61lX6IP1SVL.jpg',\n",
       " '../images\\\\71Qk6hR9-WL.jpg',\n",
       " '../images\\\\71Qk6hR9-WL.jpg',\n",
       " '../images\\\\71UN1IxKp4L.jpg',\n",
       " '../images\\\\71UN1IxKp4L.jpg',\n",
       " '../images\\\\71UYDq4nfnL.jpg',\n",
       " '../images\\\\71UYDq4nfnL.jpg',\n",
       " '../images\\\\71WAjPMQDWL.jpg',\n",
       " '../images\\\\71WAjPMQDWL.jpg',\n",
       " '../images\\\\71afEPoRGsL.jpg',\n",
       " '../images\\\\71afEPoRGsL.jpg',\n",
       " '../images\\\\71eCfiIG-AL.jpg',\n",
       " '../images\\\\71fWddA0+yL.jpg',\n",
       " '../images\\\\71ta6wY3HtL.jpg',\n",
       " '../images\\\\71ta6wY3HtL.jpg',\n",
       " '../images\\\\71v+pim0lfL.jpg',\n",
       " '../images\\\\71v+pim0lfL.jpg',\n",
       " '../images\\\\81IYdOV0mVL.jpg',\n",
       " '../images\\\\81PG3ea0MOL.jpg',\n",
       " '../images\\\\81aZ2ozp1GL.jpg',\n",
       " '../images\\\\81qUmRUUTTL.jpg',\n",
       " '../images\\\\81qUmRUUTTL.jpg']"
      ]
     },
     "execution_count": 30,
     "metadata": {},
     "output_type": "execute_result"
    }
   ],
   "source": [
    "from utils import download_images\n",
    "download_images(sample_test['image_link'], '../images')"
   ]
  },
  {
   "cell_type": "code",
   "execution_count": 5,
   "id": "8d825816",
   "metadata": {},
   "outputs": [
    {
     "name": "stdout",
     "output_type": "stream",
     "text": [
      "{'617Tl40LOXL': 'HIGH STRENGTH\\n\\nPSYLLIUM\\n\\nHUSK\\n\\n', 'Screenshot 2024-09-14 013742': '', 'Screenshot 2024-09-14 014141': '1400.\\nSE 36510\\n', 'Screenshot 2024-09-14 014238': 'PSYL\\nHU\\n'}\n",
      "Text extracted from 617Tl40LOXL: HIGH STRENGTH\n",
      "\n",
      "PSYLLIUM\n",
      "\n",
      "HUSK\n",
      "\n",
      "\n",
      "Text extracted from Screenshot 2024-09-14 013742: \n",
      "Text extracted from Screenshot 2024-09-14 014141: 1400.\n",
      "SE 36510\n",
      "\n",
      "Text extracted from Screenshot 2024-09-14 014238: PSYL\n",
      "HU\n",
      "\n"
     ]
    }
   ],
   "source": [
    "# Justin Pytesseract\n",
    "from utils import process_images_with_ocr_justin\n",
    "\n",
    "del_ocr_results = process_images_with_ocr_justin('../del_images2')\n",
    "print(del_ocr_results)\n",
    "\n",
    "for image_name, text in del_ocr_results.items():\n",
    "    print(f\"Text extracted from {image_name}: {text}\")\n"
   ]
  },
  {
   "cell_type": "code",
   "execution_count": 2,
   "id": "70e954b5",
   "metadata": {},
   "outputs": [
    {
     "name": "stderr",
     "output_type": "stream",
     "text": [
      "Neither CUDA nor MPS are available - defaulting to CPU. Note: This module is much faster with a GPU.\n"
     ]
    },
    {
     "name": "stdout",
     "output_type": "stream",
     "text": [
      "Text extracted from 41EjbFu-+yL: CANINE CREEK Clb Uattola\n",
      "Text extracted from 61Fwq4GeTmL: 60w PROfessional Install 6.600lm bianco naturale IP65 x2 120cm\n"
     ]
    }
   ],
   "source": [
    "# easyocr\n",
    "from utils import process_images_with_easyocr\n",
    "\n",
    "del_ocr_results = process_images_with_easyocr('../del_images3') #direclty pass the path of images directory as argument\n",
    "# print(del_ocr_results)\n",
    "\n",
    "for image_name, text in del_ocr_results.items():\n",
    "    print(f\"Text extracted from {image_name}: {text}\")\n"
   ]
  },
  {
   "cell_type": "code",
   "execution_count": 38,
   "id": "89aaba53",
   "metadata": {},
   "outputs": [
    {
     "name": "stderr",
     "output_type": "stream",
     "text": [
      "100%|██████████| 88/88 [00:12<00:00,  6.92it/s]\n"
     ]
    },
    {
     "name": "stdout",
     "output_type": "stream",
     "text": [
      "Text extracted from 41-NCxNuBxL: \n",
      "Text extracted from 417NJrPEk+L: \n",
      "Text extracted from 417SThj+SrL: \n",
      "Text extracted from 41ADVPQgZOL: \n",
      "Text extracted from 41nblnEkJ3L: \n",
      "Text extracted from 41o3iis9E7L: \n",
      "Text extracted from 41pvwR9GbaL: \n",
      "Text extracted from 41uwo4PVnuL: \n",
      "Text extracted from 41ygXRvf8lL: \n",
      "Text extracted from 41zgjN+zW3L: \n",
      "Text extracted from 51+oHGvSvuL: \n",
      "Text extracted from 51-WIOx5pxL: \n",
      "Text extracted from 510xYFNYQ8L: \n",
      "Text extracted from 514bY8c4ZIL: \n",
      "Text extracted from 514pScQdlCL: \n",
      "Text extracted from 51BEuVR4ZzL: \n",
      "Text extracted from 51EBBqNOJ1L: \n",
      "Text extracted from 51FSlaVlejL: \n",
      "Text extracted from 51H+mX2Wk7L: \n",
      "Text extracted from 51KykmLgc0L: \n",
      "Text extracted from 51P0IuT6RsL: \n",
      "Text extracted from 51Su6zXkAsL: \n",
      "Text extracted from 51bEy0J5wLL: \n",
      "Text extracted from 51cPZYLk2YL: \n",
      "Text extracted from 51fAzxNm+cL: \n",
      "Text extracted from 51jTe522S2L: \n",
      "Text extracted from 51kdBAv6ImL: \n",
      "Text extracted from 51l6c6UcRZL: \n",
      "Text extracted from 51oaOP8qJlL: \n",
      "Text extracted from 51r7U52rh7L: \n",
      "Text extracted from 51tEop-EBJL: \n",
      "Text extracted from 51vwYpDz2tL: \n",
      "Text extracted from 51y79cwGJFL: \n",
      "Text extracted from 613P5cxQH4L: \n",
      "Text extracted from 614hn5uX9MS: \n",
      "Text extracted from 615Cjzm6pyL: \n",
      "Text extracted from 61C+fwVD6dL: \n",
      "Text extracted from 61E2XRNSdYL: \n",
      "Text extracted from 61G8bvWOb-L: \n",
      "Text extracted from 61O+Yi09tyL: \n",
      "Text extracted from 61lX6IP1SVL: \n",
      "Text extracted from 71Qk6hR9-WL: \n",
      "Text extracted from 71UN1IxKp4L: \n",
      "Text extracted from 71UYDq4nfnL: \n",
      "Text extracted from 71WAjPMQDWL: \n",
      "Text extracted from 71afEPoRGsL: \n",
      "Text extracted from 71eCfiIG-AL: \n",
      "Text extracted from 71fWddA0+yL: \n",
      "Text extracted from 71ta6wY3HtL: \n",
      "Text extracted from 71v+pim0lfL: \n",
      "Text extracted from 81IYdOV0mVL: \n",
      "Text extracted from 81PG3ea0MOL: \n",
      "Text extracted from 81aZ2ozp1GL: \n",
      "Text extracted from 81qUmRUUTTL: \n"
     ]
    }
   ],
   "source": [
    "# Shivansh pytesseract\n",
    "from utils import process_images_with_ocr\n",
    "\n",
    "ocr_results = process_images_with_ocr(sample_test['image_link'], '../images')\n",
    "\n",
    "for image_name, text in ocr_results.items():\n",
    "    print(f\"Text extracted from {image_name}: {text}\")"
   ]
  },
  {
   "cell_type": "code",
   "execution_count": null,
   "metadata": {},
   "outputs": [],
   "source": [
    "assert len(os.listdir('../images')) > 0"
   ]
  },
  {
   "cell_type": "code",
   "execution_count": 15,
   "id": "1ba3d802",
   "metadata": {},
   "outputs": [],
   "source": [
    "rm -rf ../images"
   ]
  },
  {
   "cell_type": "code",
   "execution_count": null,
   "id": "6c38a641",
   "metadata": {},
   "outputs": [],
   "source": []
  }
 ],
 "metadata": {
  "kernelspec": {
   "display_name": "Python 3",
   "language": "python",
   "name": "python3"
  },
  "language_info": {
   "codemirror_mode": {
    "name": "ipython",
    "version": 3
   },
   "file_extension": ".py",
   "mimetype": "text/x-python",
   "name": "python",
   "nbconvert_exporter": "python",
   "pygments_lexer": "ipython3",
   "version": "3.12.1"
  }
 },
 "nbformat": 4,
 "nbformat_minor": 5
}
